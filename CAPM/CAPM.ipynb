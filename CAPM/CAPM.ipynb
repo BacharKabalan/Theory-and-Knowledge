{
 "cells": [
  {
   "cell_type": "markdown",
   "metadata": {},
   "source": [
    "# Intro"
   ]
  },
  {
   "cell_type": "markdown",
   "metadata": {},
   "source": [
    "In this notebook, we will apply the Capital Asset Pricing Model (CAPM) for an individual sotck and a portfolio of stocks. "
   ]
  },
  {
   "cell_type": "code",
   "execution_count": 3,
   "metadata": {},
   "outputs": [
    {
     "name": "stderr",
     "output_type": "stream",
     "text": [
      "c:\\ProgramData\\Anaconda3\\lib\\site-packages\\pandas\\compat\\_optional.py:138: UserWarning: Pandas requires version '2.7.0' or newer of 'numexpr' (version '2.6.9' currently installed).\n",
      "  warnings.warn(msg, UserWarning)\n",
      "c:\\ProgramData\\Anaconda3\\lib\\site-packages\\dask\\config.py:168: YAMLLoadWarning: calling yaml.load() without Loader=... is deprecated, as the default Loader is unsafe. Please read https://msg.pyyaml.org/load for full details.\n",
      "  data = yaml.load(f.read()) or {}\n",
      "c:\\ProgramData\\Anaconda3\\lib\\site-packages\\distributed\\config.py:20: YAMLLoadWarning: calling yaml.load() without Loader=... is deprecated, as the default Loader is unsafe. Please read https://msg.pyyaml.org/load for full details.\n",
      "  defaults = yaml.load(f)\n"
     ]
    }
   ],
   "source": [
    "import numpy as np\n",
    "import pandas as pd\n",
    "import pandas_datareader as pdr\n",
    "\n",
    "import matplotlib.pyplot as plt\n",
    "import datetime as dt\n",
    "import plotly.express as px\n",
    "from scipy.stats import linregress\n",
    "# import statsmodels.api as sm\n",
    "# import statsmodels.formula.api as smf\n",
    "#import yfinance as yf\n",
    "import pandas as pd\n",
    "import pandas_datareader as pdr\n",
    "import math\n",
    "import time\n"
   ]
  },
  {
   "cell_type": "code",
   "execution_count": 4,
   "metadata": {},
   "outputs": [],
   "source": [
    "tickers = [\n",
    "    'SPY', \n",
    "    'MSFT',\n",
    "    'AAPL',\n",
    "    'MSFT',\n",
    "    'AAPL',\n",
    "    'META',\n",
    "    'AMZN',\n",
    "    'GOOG',\n",
    "    'ORCL',\n",
    "    'CRM',\n",
    "    'ADSK',\n",
    "    'SAP',\n",
    "    'XOM',\n",
    "    'SHEL',\n",
    "    'BP',\n",
    "    'E',\n",
    "    'EQNR',\n",
    "    'TTE',\n",
    "]\n",
    "# start = dt.datetime(2012, 1, 12)\n",
    "# end = dt.datetime(2020,8,11)\n",
    "# df = pdr.get_data_yahoo(symbol, start, end)['Adj Close']\n",
    "\n",
    "df_prices = pdr.get_data_yahoo(tickers, pd.Timestamp('2019'), pd.Timestamp('2020'))['Adj Close']\n",
    "df_marketCap = pdr.get_quote_yahoo(tickers)['marketCap']"
   ]
  },
  {
   "cell_type": "code",
   "execution_count": 5,
   "metadata": {},
   "outputs": [],
   "source": [
    "df_rets = (np.log(df_prices)).diff()"
   ]
  },
  {
   "cell_type": "code",
   "execution_count": 6,
   "metadata": {},
   "outputs": [
    {
     "data": {
      "text/html": [
       "<div>\n",
       "<style scoped>\n",
       "    .dataframe tbody tr th:only-of-type {\n",
       "        vertical-align: middle;\n",
       "    }\n",
       "\n",
       "    .dataframe tbody tr th {\n",
       "        vertical-align: top;\n",
       "    }\n",
       "\n",
       "    .dataframe thead th {\n",
       "        text-align: right;\n",
       "    }\n",
       "</style>\n",
       "<table border=\"1\" class=\"dataframe\">\n",
       "  <thead>\n",
       "    <tr style=\"text-align: right;\">\n",
       "      <th>Symbols</th>\n",
       "      <th>SPY</th>\n",
       "      <th>MSFT</th>\n",
       "      <th>AAPL</th>\n",
       "      <th>META</th>\n",
       "      <th>AMZN</th>\n",
       "      <th>GOOG</th>\n",
       "      <th>ORCL</th>\n",
       "      <th>CRM</th>\n",
       "      <th>ADSK</th>\n",
       "      <th>SAP</th>\n",
       "      <th>XOM</th>\n",
       "      <th>SHEL</th>\n",
       "      <th>BP</th>\n",
       "      <th>E</th>\n",
       "      <th>EQNR</th>\n",
       "      <th>TTE</th>\n",
       "    </tr>\n",
       "    <tr>\n",
       "      <th>Date</th>\n",
       "      <th></th>\n",
       "      <th></th>\n",
       "      <th></th>\n",
       "      <th></th>\n",
       "      <th></th>\n",
       "      <th></th>\n",
       "      <th></th>\n",
       "      <th></th>\n",
       "      <th></th>\n",
       "      <th></th>\n",
       "      <th></th>\n",
       "      <th></th>\n",
       "      <th></th>\n",
       "      <th></th>\n",
       "      <th></th>\n",
       "      <th></th>\n",
       "    </tr>\n",
       "  </thead>\n",
       "  <tbody>\n",
       "    <tr>\n",
       "      <th>2019-01-03</th>\n",
       "      <td>-0.024192</td>\n",
       "      <td>-0.037522</td>\n",
       "      <td>-0.104964</td>\n",
       "      <td>-0.029508</td>\n",
       "      <td>-0.025605</td>\n",
       "      <td>-0.028937</td>\n",
       "      <td>-0.009818</td>\n",
       "      <td>-0.038774</td>\n",
       "      <td>-0.056751</td>\n",
       "      <td>-0.038269</td>\n",
       "      <td>-0.015512</td>\n",
       "      <td>-0.002233</td>\n",
       "      <td>0.005645</td>\n",
       "      <td>0.006605</td>\n",
       "      <td>0.002271</td>\n",
       "      <td>0.002231</td>\n",
       "    </tr>\n",
       "    <tr>\n",
       "      <th>2019-01-04</th>\n",
       "      <td>0.032907</td>\n",
       "      <td>0.045421</td>\n",
       "      <td>0.041763</td>\n",
       "      <td>0.046021</td>\n",
       "      <td>0.048811</td>\n",
       "      <td>0.052350</td>\n",
       "      <td>0.042157</td>\n",
       "      <td>0.056318</td>\n",
       "      <td>0.051385</td>\n",
       "      <td>0.033743</td>\n",
       "      <td>0.036167</td>\n",
       "      <td>0.022339</td>\n",
       "      <td>0.030911</td>\n",
       "      <td>0.034976</td>\n",
       "      <td>0.028170</td>\n",
       "      <td>0.028834</td>\n",
       "    </tr>\n",
       "    <tr>\n",
       "      <th>2019-01-07</th>\n",
       "      <td>0.007814</td>\n",
       "      <td>0.001235</td>\n",
       "      <td>-0.002268</td>\n",
       "      <td>0.000685</td>\n",
       "      <td>0.033737</td>\n",
       "      <td>-0.002209</td>\n",
       "      <td>0.015679</td>\n",
       "      <td>0.030372</td>\n",
       "      <td>0.033987</td>\n",
       "      <td>0.009736</td>\n",
       "      <td>0.005147</td>\n",
       "      <td>0.001281</td>\n",
       "      <td>0.003203</td>\n",
       "      <td>-0.004618</td>\n",
       "      <td>0.008448</td>\n",
       "      <td>-0.001877</td>\n",
       "    </tr>\n",
       "    <tr>\n",
       "      <th>2019-01-08</th>\n",
       "      <td>0.009312</td>\n",
       "      <td>0.007185</td>\n",
       "      <td>0.018844</td>\n",
       "      <td>0.031897</td>\n",
       "      <td>0.016436</td>\n",
       "      <td>0.007318</td>\n",
       "      <td>0.008982</td>\n",
       "      <td>0.024272</td>\n",
       "      <td>0.008588</td>\n",
       "      <td>0.015484</td>\n",
       "      <td>0.007205</td>\n",
       "      <td>-0.006161</td>\n",
       "      <td>-0.003282</td>\n",
       "      <td>-0.007717</td>\n",
       "      <td>0.004399</td>\n",
       "      <td>-0.003172</td>\n",
       "    </tr>\n",
       "    <tr>\n",
       "      <th>2019-01-09</th>\n",
       "      <td>0.004623</td>\n",
       "      <td>0.014159</td>\n",
       "      <td>0.016800</td>\n",
       "      <td>0.011817</td>\n",
       "      <td>0.001673</td>\n",
       "      <td>-0.001546</td>\n",
       "      <td>-0.002131</td>\n",
       "      <td>0.001812</td>\n",
       "      <td>0.021392</td>\n",
       "      <td>0.013495</td>\n",
       "      <td>0.005221</td>\n",
       "      <td>0.011510</td>\n",
       "      <td>0.008170</td>\n",
       "      <td>0.018892</td>\n",
       "      <td>0.014906</td>\n",
       "      <td>0.021683</td>\n",
       "    </tr>\n",
       "  </tbody>\n",
       "</table>\n",
       "</div>"
      ],
      "text/plain": [
       "Symbols          SPY      MSFT      AAPL      META      AMZN      GOOG  \\\n",
       "Date                                                                     \n",
       "2019-01-03 -0.024192 -0.037522 -0.104964 -0.029508 -0.025605 -0.028937   \n",
       "2019-01-04  0.032907  0.045421  0.041763  0.046021  0.048811  0.052350   \n",
       "2019-01-07  0.007814  0.001235 -0.002268  0.000685  0.033737 -0.002209   \n",
       "2019-01-08  0.009312  0.007185  0.018844  0.031897  0.016436  0.007318   \n",
       "2019-01-09  0.004623  0.014159  0.016800  0.011817  0.001673 -0.001546   \n",
       "\n",
       "Symbols         ORCL       CRM      ADSK       SAP       XOM      SHEL  \\\n",
       "Date                                                                     \n",
       "2019-01-03 -0.009818 -0.038774 -0.056751 -0.038269 -0.015512 -0.002233   \n",
       "2019-01-04  0.042157  0.056318  0.051385  0.033743  0.036167  0.022339   \n",
       "2019-01-07  0.015679  0.030372  0.033987  0.009736  0.005147  0.001281   \n",
       "2019-01-08  0.008982  0.024272  0.008588  0.015484  0.007205 -0.006161   \n",
       "2019-01-09 -0.002131  0.001812  0.021392  0.013495  0.005221  0.011510   \n",
       "\n",
       "Symbols           BP         E      EQNR       TTE  \n",
       "Date                                                \n",
       "2019-01-03  0.005645  0.006605  0.002271  0.002231  \n",
       "2019-01-04  0.030911  0.034976  0.028170  0.028834  \n",
       "2019-01-07  0.003203 -0.004618  0.008448 -0.001877  \n",
       "2019-01-08 -0.003282 -0.007717  0.004399 -0.003172  \n",
       "2019-01-09  0.008170  0.018892  0.014906  0.021683  "
      ]
     },
     "execution_count": 6,
     "metadata": {},
     "output_type": "execute_result"
    }
   ],
   "source": [
    "yearlyTradingDays = 252\n",
    "yearlyRiskFreeRate = 0.01\n",
    "dailyRiskFreeRate = (yearlyRiskFreeRate)/yearlyTradingDays\n",
    "df_excessRets = df_rets - dailyRiskFreeRate\n",
    "df_excessRets.dropna(inplace=True)\n",
    "df_excessRets.head()"
   ]
  },
  {
   "cell_type": "code",
   "execution_count": 7,
   "metadata": {},
   "outputs": [
    {
     "data": {
      "text/plain": [
       "Text(0, 0.5, 'Frequency')"
      ]
     },
     "execution_count": 7,
     "metadata": {},
     "output_type": "execute_result"
    },
    {
     "data": {
      "image/png": "[encoded data removed]",
      "text/plain": [
       "<Figure size 1080x720 with 1 Axes>"
      ]
     },
     "metadata": {
      "needs_background": "light"
     },
     "output_type": "display_data"
    }
   ],
   "source": [
    "plt.figure(figsize = (15,10))\n",
    "plt.hist(df_excessRets[['AAPL','MSFT']].values, bins = 80, label = ['Apple', 'Microsoft'])\n",
    "plt.legend(loc = 0)\n",
    "plt.xlabel('Daily Return')\n",
    "plt.ylabel('Frequency')\n"
   ]
  },
  {
   "cell_type": "code",
   "execution_count": 8,
   "metadata": {},
   "outputs": [
    {
     "name": "stdout",
     "output_type": "stream",
     "text": [
      "slope:  1.5588,\n",
      "intercept: 0.0008495863745590592,\n",
      "r_value: 0.7426972846572542,\n",
      "p_value: 2.9084017909246875e-45,\n",
      "std_err: 0.08906776382981213\n"
     ]
    }
   ],
   "source": [
    "slope_aapl, intercept, r_value, p_value, std_err = linregress(df_rets['SPY'].dropna(),df_rets['AAPL'].dropna())\n",
    "print(f\"slope: {slope_aapl : .4f},\\nintercept: {intercept},\\nr_value: {r_value},\\np_value: {p_value},\\nstd_err: {std_err}\")"
   ]
  },
  {
   "cell_type": "code",
   "execution_count": 9,
   "metadata": {},
   "outputs": [],
   "source": [
    "beta_aapl = slope_aapl"
   ]
  },
  {
   "cell_type": "code",
   "execution_count": 10,
   "metadata": {},
   "outputs": [
    {
     "name": "stderr",
     "output_type": "stream",
     "text": [
      "c:\\ProgramData\\Anaconda3\\lib\\site-packages\\matplotlib\\cbook\\__init__.py:1377: FutureWarning: Support for multi-dimensional indexing (e.g. `obj[:, None]`) is deprecated and will be removed in a future version.  Convert to a numpy array before indexing instead.\n",
      "  x[:, None]\n",
      "c:\\ProgramData\\Anaconda3\\lib\\site-packages\\matplotlib\\axes\\_base.py:237: FutureWarning: Support for multi-dimensional indexing (e.g. `obj[:, None]`) is deprecated and will be removed in a future version.  Convert to a numpy array before indexing instead.\n",
      "  x = x[:, np.newaxis]\n",
      "c:\\ProgramData\\Anaconda3\\lib\\site-packages\\matplotlib\\axes\\_base.py:239: FutureWarning: Support for multi-dimensional indexing (e.g. `obj[:, None]`) is deprecated and will be removed in a future version.  Convert to a numpy array before indexing instead.\n",
      "  y = y[:, np.newaxis]\n"
     ]
    },
    {
     "data": {
      "text/plain": [
       "<matplotlib.legend.Legend at 0x22df0c50978>"
      ]
     },
     "execution_count": 10,
     "metadata": {},
     "output_type": "execute_result"
    },
    {
     "data": {
      "image/png": "[encoded data removed]",
      "text/plain": [
       "<Figure size 432x288 with 1 Axes>"
      ]
     },
     "metadata": {
      "needs_background": "light"
     },
     "output_type": "display_data"
    }
   ],
   "source": [
    "plt.plot(df_rets['SPY'], df_rets['AAPL'],'o', label = 'Data')\n",
    "plt.plot(df_rets['SPY'], beta_aapl*df_rets['SPY']+intercept, 'r', label = 'Regression Line')\n",
    "plt.xlabel('SPY Daily Returns')\n",
    "plt.ylabel('AAPL Daily Returns')\n",
    "plt.legend()"
   ]
  },
  {
   "cell_type": "markdown",
   "metadata": {},
   "source": [
    "Otherwise, $\\beta$ can be calculated using the following formula:\n",
    "\n",
    "$\n",
    "\\beta_i = \\rho_{im} * \\frac{\\sigma_i}{\\sigma_m}\n",
    "$\n",
    "\n",
    "* where $ \\rho_{im} $ is the correlation between the stock and the market\n",
    "* $ \\sigma_i $: is the standard deviation (volatility) of the stock\n",
    "* $ \\sigma_m $: is the standard deviation (volatility) of the market"
   ]
  },
  {
   "cell_type": "code",
   "execution_count": 11,
   "metadata": {},
   "outputs": [
    {
     "data": {
      "text/plain": [
       "1.5588305072080715"
      ]
     },
     "execution_count": 11,
     "metadata": {},
     "output_type": "execute_result"
    }
   ],
   "source": [
    "raw_AAPL_SPY = ((df_rets[['AAPL','SPY']]).corr()).iloc[0,1]\n",
    "std_SPY = df_rets['SPY'].std()\n",
    "std_AAPL = df_rets['AAPL'].std()\n",
    "raw_AAPL_SPY*(std_AAPL/std_SPY)"
   ]
  },
  {
   "cell_type": "markdown",
   "metadata": {},
   "source": [
    "or \n",
    "\n",
    "$\n",
    "\\beta_i = \\frac{\\sigma_i}{{\\sigma_m}^2}\n",
    "$\n",
    "\n",
    "* $ \\sigma_i $: is the standard deviation (volatility) of the stock\n",
    "* $ \\sigma_m $: is the standard deviation (volatility) of the market"
   ]
  },
  {
   "cell_type": "code",
   "execution_count": 12,
   "metadata": {},
   "outputs": [
    {
     "data": {
      "text/plain": [
       "1.5588305072080728"
      ]
     },
     "execution_count": 12,
     "metadata": {},
     "output_type": "execute_result"
    }
   ],
   "source": [
    "cov_AAPL_SPY = ((df_rets[['AAPL','SPY']]).cov()).iloc[0,1]\n",
    "std_SPY = df_rets['SPY'].std()\n",
    "cov_AAPL_SPY/(std_SPY**2)"
   ]
  },
  {
   "cell_type": "markdown",
   "metadata": {},
   "source": [
    "$\\beta$ is greater than 1. This means Apple is 55% more volatile than the market and will add risk. It is worth saying that this could mean 55% more profit and 55% more loss! "
   ]
  },
  {
   "cell_type": "markdown",
   "metadata": {},
   "source": [
    "Now that we have Apple's $\\beta$, let us calculate its actual expected return and plot it against the Security Market Line (SML) to evaluate if it under or overvalued. \n",
    "The SML will tell us what Apple's expected return should be given its risk ($\\beta$).\n",
    "\n",
    "$\n",
    "Annual Return = (1 + Cumulative Return)^{\\frac{Yearly Trading Days}{Total Holding Days}} - 1\n",
    "$"
   ]
  },
  {
   "cell_type": "code",
   "execution_count": 13,
   "metadata": {},
   "outputs": [],
   "source": [
    "cml_ret = np.exp(np.cumsum(df_rets))-1\n",
    "total_holding_days = len(df_rets.index)\n",
    "\n",
    "ann_ret = np.power((1+cml_ret).iloc[-1], (yearlyTradingDays/total_holding_days)) - 1 \n"
   ]
  },
  {
   "cell_type": "code",
   "execution_count": 14,
   "metadata": {},
   "outputs": [
    {
     "name": "stdout",
     "output_type": "stream",
     "text": [
      "We now have Apple's eta$ and it annual return: (1.5588305072080737, 0.8874247274410576) \n"
     ]
    }
   ],
   "source": [
    "print(f\"We now have Apple's $\\beta$ and it annual return: ({beta_aapl}, {ann_ret['AAPL']}) \")"
   ]
  },
  {
   "cell_type": "markdown",
   "metadata": {},
   "source": [
    "Let us plot the SML, and see if Apple's (risk, annual return) falls above (undervalued) or below (overvalued) the line. We will use SP500 as our benchmark.\n",
    "The SML can be drawn using the following formula: \n",
    "\n",
    "$\n",
    "E_{i} = Risk Free Rate + \\beta_i * (R_{m} - Risk Free Rate)\n",
    "$\n",
    "\n",
    "where $E_{i}$ is the considered stock's expected annual return\n",
    "and $R_{m}$ is the portfolio's annual return\n",
    "\n",
    "For the SML: \n",
    "* For $\\beta = 0$, the Expected return is the Risk Free Rate\n",
    "* For $\\beta = 1$ , the Expected return is the portfolio's annual return "
   ]
  },
  {
   "cell_type": "code",
   "execution_count": 15,
   "metadata": {},
   "outputs": [
    {
     "data": {
      "text/plain": [
       "Text(0, 0.5, 'Expected Return')"
      ]
     },
     "execution_count": 15,
     "metadata": {},
     "output_type": "execute_result"
    },
    {
     "data": {
      "image/png": "[encoded data removed]",
      "text/plain": [
       "<Figure size 720x576 with 1 Axes>"
      ]
     },
     "metadata": {
      "needs_background": "light"
     },
     "output_type": "display_data"
    }
   ],
   "source": [
    "\n",
    "SML_slope = (ann_ret.SPY-yearlyRiskFreeRate)/(1-0) #slope of the SML using SP500 as the market portfolio\n",
    "ax, fig = plt.subplots(figsize = (10,8))\n",
    "ax = plt.plot([0, 1,4], [yearlyRiskFreeRate,ann_ret.SPY, 4*SML_slope+yearlyRiskFreeRate]) #SML line\n",
    "plt.xlabel(r\"$\\beta$\")\n",
    "plt.ylabel(\"Expected Return\")\n"
   ]
  },
  {
   "cell_type": "code",
   "execution_count": 19,
   "metadata": {},
   "outputs": [
    {
     "name": "stdout",
     "output_type": "stream",
     "text": [
      "For apple's β, the expected return is: 0.4790127966289961 \n",
      "However, the actual return is: 0.8874247274410576\n"
     ]
    }
   ],
   "source": [
    "expected_ret_aapl = yearlyRiskFreeRate + beta_aapl*(ann_ret.SPY - yearlyRiskFreeRate)\n",
    "print(f\"For apple's \\u03B2, the expected return is: {expected_ret_aapl} \")\n",
    "print(f\"However, the actual return is: {ann_ret.AAPL}\")\n"
   ]
  },
  {
   "cell_type": "markdown",
   "metadata": {},
   "source": [
    "We can already conclude that Apple is undervalued. Let's inspect that visually."
   ]
  },
  {
   "cell_type": "code",
   "execution_count": 40,
   "metadata": {},
   "outputs": [
    {
     "data": {
      "image/png": "[encoded data removed]",
      "text/plain": [
       "<Figure size 720x576 with 1 Axes>"
      ]
     },
     "metadata": {
      "needs_background": "light"
     },
     "output_type": "display_data"
    }
   ],
   "source": [
    "SML_slope = (ann_ret.SPY-yearlyRiskFreeRate)/(1-0) #slope of the SML using SP500 as the market portfolio\n",
    "ax, fig = plt.subplots(figsize = (10,8))\n",
    "ax = plt.plot([0, 1,4], [yearlyRiskFreeRate,ann_ret.SPY, 4*SML_slope+yearlyRiskFreeRate]) #SML line\n",
    "plt.xlabel(r\"$\\beta$\")\n",
    "plt.ylabel(\"Expected Return\")\n",
    "ax = plt.plot([beta_aapl],[ann_ret.AAPL],'ro', label = 'Actual Risk/Return')\n",
    "ax = plt.plot( [slope_aapl],[yearlyRiskFreeRate + slope_aapl*(ann_ret.SPY - yearlyRiskFreeRate)],'bo', label = 'Expected risk/return')\n",
    "plt.legend()\n",
    "plt.show()"
   ]
  },
  {
   "cell_type": "code",
   "execution_count": 32,
   "metadata": {},
   "outputs": [
    {
     "name": "stdout",
     "output_type": "stream",
     "text": [
      "excess return from Apple is 40.84%\n"
     ]
    }
   ],
   "source": [
    "excess_ret_aapl = ann_ret.AAPL - expected_ret_aapl\n",
    "print(f'excess return from Apple is {excess_ret_aapl*100:.2f}%')"
   ]
  },
  {
   "cell_type": "markdown",
   "metadata": {},
   "source": [
    "Now, the conclusion here is that Apple isundervalued and should probably be added to our portfolio (S&P500 in this case). \n",
    "However, you can see how this analysis is faulty, as Apple is already in the S&P500. \n",
    "This was just for illustrative purposes. \n",
    "But given that $\\beta$ is an estimation of volatility (both good and bad), let us dig a bit more deeper into the statistic."
   ]
  },
  {
   "cell_type": "code",
   "execution_count": 20,
   "metadata": {},
   "outputs": [
    {
     "data": {
      "text/plain": [
       "<matplotlib.axes._subplots.AxesSubplot at 0x22df1354390>"
      ]
     },
     "execution_count": 20,
     "metadata": {},
     "output_type": "execute_result"
    },
    {
     "data": {
      "image/png": "[encoded data removed]",
      "text/plain": [
       "<Figure size 432x288 with 1 Axes>"
      ]
     },
     "metadata": {
      "needs_background": "light"
     },
     "output_type": "display_data"
    }
   ],
   "source": [
    "import seaborn as sns\n",
    "sns.distplot(df_rets['AAPL'].dropna())"
   ]
  },
  {
   "cell_type": "code",
   "execution_count": 21,
   "metadata": {},
   "outputs": [
    {
     "name": "stdout",
     "output_type": "stream",
     "text": [
      "Skewness is -1.1339500595369638\n"
     ]
    }
   ],
   "source": [
    "print(f\"Skewness is {df_rets['AAPL'].dropna().skew()}\")\n",
    "#print(f\"Kurtosis {df_rets['AAPL'].dropna().kurt()}\")"
   ]
  },
  {
   "cell_type": "markdown",
   "metadata": {},
   "source": [
    "The skewness tells me the distribution is negatively skewed. However, it does not tell me the total number of negative returns and the total number of positive returns."
   ]
  },
  {
   "cell_type": "markdown",
   "metadata": {},
   "source": [
    "How many positive returns do i have?"
   ]
  },
  {
   "cell_type": "code",
   "execution_count": 22,
   "metadata": {},
   "outputs": [
    {
     "name": "stdout",
     "output_type": "stream",
     "text": [
      "Of all returns,  41.67% are negative and  57.94% are positive \n"
     ]
    }
   ],
   "source": [
    "print(f\"Of all returns, {len(df_rets['AAPL'][df_rets['AAPL']<0])/len(df_rets['AAPL'])*100: .2f}% are negative\",\\\n",
    "    f\"and {len(df_rets['AAPL'][df_rets['AAPL']>=0])/len(df_rets['AAPL'])*100: .2f}% are positive \")\n"
   ]
  },
  {
   "cell_type": "code",
   "execution_count": 23,
   "metadata": {},
   "outputs": [
    {
     "name": "stdout",
     "output_type": "stream",
     "text": [
      "The win/loss ratio is 1.39\n"
     ]
    }
   ],
   "source": [
    "print(f\"The win/loss ratio is {len(df_rets['AAPL'][df_rets['AAPL']>=0])/len(df_rets['AAPL'][df_rets['AAPL']<0]):.2f}\")"
   ]
  },
  {
   "cell_type": "markdown",
   "metadata": {},
   "source": [
    "This means for every 14 winning trades, we are losing 10. That is a good Win/Loss Ratio. "
   ]
  },
  {
   "cell_type": "code",
   "execution_count": 24,
   "metadata": {},
   "outputs": [
    {
     "name": "stdout",
     "output_type": "stream",
     "text": [
      "For winning trades, the average return is  1.22% and the maximum daily positive return is 6.61%\n"
     ]
    }
   ],
   "source": [
    "print(f\"For winning trades, the average return is {df_rets['AAPL'][df_rets['AAPL']>=0].mean() *100: .2f}%\",\\\n",
    "f\"and the maximum daily positive return is {df_rets['AAPL'][df_rets['AAPL']>=0].max() *100:.2f}%\")"
   ]
  },
  {
   "cell_type": "code",
   "execution_count": 25,
   "metadata": {},
   "outputs": [
    {
     "name": "stdout",
     "output_type": "stream",
     "text": [
      "For losing trades, the average return is -1.09% and the maximum daily negative return is -10.49%\n"
     ]
    }
   ],
   "source": [
    "print(f\"For losing trades, the average return is {df_rets['AAPL'][df_rets['AAPL']<0].mean() *100: .2f}%\",\\\n",
    "f\"and the maximum daily negative return is {df_rets['AAPL'][df_rets['AAPL']<0].min() *100:.2f}%\")"
   ]
  },
  {
   "cell_type": "markdown",
   "metadata": {},
   "source": [
    "So not only is the number of positive returns higher than the losing ones, bu the average return for positive returns is also higher than that of losing returns."
   ]
  },
  {
   "cell_type": "markdown",
   "metadata": {},
   "source": [
    "Let's check the data distribution using a boxplot."
   ]
  },
  {
   "cell_type": "code",
   "execution_count": 26,
   "metadata": {},
   "outputs": [
    {
     "data": {
      "text/plain": [
       "{'whiskers': [<matplotlib.lines.Line2D at 0x22df0b09748>,\n",
       "  <matplotlib.lines.Line2D at 0x22df0b09a90>],\n",
       " 'caps': [<matplotlib.lines.Line2D at 0x22df0b09dd8>,\n",
       "  <matplotlib.lines.Line2D at 0x22df0b09eb8>],\n",
       " 'boxes': [<matplotlib.lines.Line2D at 0x22df0bf50b8>],\n",
       " 'medians': [<matplotlib.lines.Line2D at 0x22df0b114a8>],\n",
       " 'fliers': [<matplotlib.lines.Line2D at 0x22df0b117f0>],\n",
       " 'means': []}"
      ]
     },
     "execution_count": 26,
     "metadata": {},
     "output_type": "execute_result"
    },
    {
     "data": {
      "image/png": "[encoded data removed]",
      "text/plain": [
       "<Figure size 432x288 with 1 Axes>"
      ]
     },
     "metadata": {
      "needs_background": "light"
     },
     "output_type": "display_data"
    }
   ],
   "source": [
    "plt.boxplot(df_rets['AAPL'].dropna())"
   ]
  },
  {
   "cell_type": "markdown",
   "metadata": {},
   "source": [
    "SML showed that Apple is undervalued. In addition:\n",
    "* It has more positive returns than negative. \n",
    "* The average positive return is higher than the negative one\n",
    "* The big losses seem to be outliers rather than a trend. \n",
    "\n",
    "Buying apple seems to be quite obvious"
   ]
  },
  {
   "cell_type": "code",
   "execution_count": null,
   "metadata": {},
   "outputs": [],
   "source": []
  }
 ],
 "metadata": {
  "kernelspec": {
   "display_name": "Python 3.7.3 ('base')",
   "language": "python",
   "name": "python3"
  },
  "language_info": {
   "codemirror_mode": {
    "name": "ipython",
    "version": 3
   },
   "file_extension": ".py",
   "mimetype": "text/x-python",
   "name": "python",
   "nbconvert_exporter": "python",
   "pygments_lexer": "ipython3",
   "version": "3.7.3"
  },
  "orig_nbformat": 4,
  "vscode": {
   "interpreter": {
    "hash": "ad2bdc8ecc057115af97d19610ffacc2b4e99fae6737bb82f5d7fb13d2f2c186"
   }
  }
 },
 "nbformat": 4,
 "nbformat_minor": 2
}
